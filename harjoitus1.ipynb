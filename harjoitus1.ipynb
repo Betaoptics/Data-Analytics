{
 "cells": [
  {
   "cell_type": "markdown",
   "metadata": {},
   "source": [
    "## Datan analysointi S2020 - Tehtävät 1\n",
    "\n",
    "Palauta ratkaisusi Moodleen, kun olet ensin testannut ratkaisusi toimivuuden Notebookilla tai omalla koneellasi. Kun olet palauttanut tehtäväsi Moodleen, ne arvioidaan pistein:\n",
    "* 1,0 p. Vastaus oikein ensimmäisellä yrityksellä.\n",
    "* 0,5 p. Vastaus oikein toisella yrityksellä.\n",
    "* 0 p. Vastaus väärin kolmannella yrityksellä.\n",
    "\n",
    "**Tee tehtävät ilman for-silmukoita tms.**\n"
   ]
  },
  {
   "cell_type": "markdown",
   "metadata": {},
   "source": [
    "## 1. NumPy-taulukot  - kappaleen lähtönopeus\n",
    "\n",
    "Kappaleen lähtönopeuden laskemiseksi on mitattu seuraava data:\n",
    "* $\\text{kulma} = \\text{[10, 15, 20, 25, 30]}$\n",
    "* $\\text{kantama} = \\text{[22.7, 21.9, 26.1, 28.8, 29.8]},$\n",
    "\n",
    "missä $\\text{kulma}$ on vaakatason ja kappaleen lähtönopeusvektorin välinen kulma asteina ja $\\text{kantama}$ on kappaleen lentomatka yksiköissä cm.\n",
    "\n",
    "Kappaleen lähtönopeus on silloin\n",
    "$$\n",
    "\\text{nopeus}=\\sqrt{\\frac{\\text{kantama}\\cdot 9.82\\ \\text{m}/\\text{s}^2}{\\sin{\\left( 2\\cdot \\text{kulma} \\right)}}}.\n",
    "$$\n",
    "\n",
    "Kirjoita python funktio **nopeus(kulma, kantama)**, joka otta argumenteikseen python listat (kulma ja kantama) ja **tulostaa** lopuksi yllä olevalla kaavalla lasketun parametrin **nopeus**.\n",
    "\n",
    "Käytä [numpy taulukoiden funktioita](https://numpy.org/doc/stable/reference/ufuncs.html) ratkaisussasi. Anna vastauksesi yksiköissä m/s. Sinun tarvitsee ottaa käyttöön ainoastaan annettu kaava sekä tehdä tarvittavat yksikkömuunnokset.\n",
    "\n",
    "Funktion kutsun **nopeus(kulma, kantama)** em. kulma ja kantama taulukoilla pitäisi palauttaa:\\\n",
    "[2.55295306 2.07392382 1.99683532 1.92143193 1.83822454]\n"
   ]
  },
  {
   "cell_type": "code",
   "execution_count": 34,
   "metadata": {},
   "outputs": [
    {
     "name": "stdout",
     "output_type": "stream",
     "text": [
      "[2.55295306 2.07392382 1.99683532 1.92143193 1.83822454]\n"
     ]
    }
   ],
   "source": [
    "import pandas as pd\n",
    "import numpy as np\n",
    "\n",
    "kulma = np.array([10, 15, 20, 25, 30])\n",
    "kantama = np.array([22.7, 21.9, 26.1, 28.8, 29.8])\n",
    "\n",
    "### Palautettavan tehtävän osa alkaa tästä ###\n",
    "def nopeus(kulma, kantama):\n",
    "    # Kirjoita vastauksesi tämän funktiorakenteen sisälle:\n",
    "    # ...\n",
    "    g = float(9.82)\n",
    "    #print(g)\n",
    "    #print(kulma)\n",
    "    nopeus = np.sqrt((kantama * g) / (np.sin(np.deg2rad(2 * kulma))))\n",
    "    nopeus = nopeus * 0.1\n",
    "    # Lopuksi tulostetaan määrittämäsi numpy taulukko nopeus:\n",
    "    print(nopeus)\n",
    "### Palautettavan tehtävän osa päättyy tähän.  \n",
    "\n",
    "# Ennen tehtävän palauttamista Moodleen, kokeile sitä seuraavasti:\n",
    "nopeus(kulma, kantama)\n"
   ]
  },
  {
   "cell_type": "markdown",
   "metadata": {},
   "source": [
    "## 2. Nopanheitto\n",
    "Heitettäessä kolmea noppaa todennäköisyys että kaikkien silmäluvut on erit on n. 56 %.\n",
    "\n",
    "Testaa tätä \"heittämällä\" kolmea noppaa miljoonaa kertaa:\n",
    "* Tee  NumPy:n randint-funktiolla NumPy-taulukko, jossa on 10 000 000 kpl satunnaislukuja väliltä 1-6. https://docs.scipy.org/doc/numpy-1.15.1/reference/generated/numpy.random.randint.html#numpy.random.randint\n",
    "* Tee samanlainen taulukko vielä 2 kertaa\n",
    "* Tee sitten NumPy-taulukko jossa on True (tai 1) kun kolmessa \"noppataulukossa\" on kyseisellä paikalla kaikissa eri luku, ja False (tai 0), jos ei ole \n",
    "* Laske montako True-alkioita taulukossa on ja jaa se alkioiden määrällä\n",
    "* Pyöristä lopuksi vastauksesi numpyn round funktiolla kahden desimaalin tarkkuuteen (pitäisi tulla 0,56).\n",
    "\n",
    "Voit tehdä \"noppataulukoista\" DataFramen tai tutkia pelkästään NynPy-taulukkoja\n"
   ]
  },
  {
   "cell_type": "code",
   "execution_count": 11,
   "metadata": {},
   "outputs": [
    {
     "name": "stdout",
     "output_type": "stream",
     "text": [
      "0.56\n"
     ]
    }
   ],
   "source": [
    "# Kirjoita ratkaisusi tähän:\n",
    "# n = 100 is for testing purposes of the logic, you can comment '#' it and uncomment n = 10000000 to check that the functionality remains\n",
    "#n = 100\n",
    "n = 10000000\n",
    "dice1 = np.random.randint(6, size=n)\n",
    "dice2 = np.random.randint(6, size=n)\n",
    "dice3 = np.random.randint(6, size=n)\n",
    "#print(\"This is 1st dice table: \\n\")\n",
    "#print(dice1)\n",
    "#print(\"\\n-------------------------\\n\")\n",
    "#print(\"This is 2nd dice table: \\n\")\n",
    "#print(dice2)\n",
    "#print(\"\\n-------------------------\\n\")\n",
    "#print(\"This is 3rd dice table: \\n\")\n",
    "#print(dice3)\n",
    "#print(\"\\n-------------------------\\n\")\n",
    "checkMatch = (dice1 != dice2) & (dice2 != dice3) & (dice1 != dice3)\n",
    "#print(checkMatch)\n",
    "#print(\"\\n-------------------------\\n\")\n",
    "#print(\"Count True values of checkMatch: \", np.count_nonzero(checkMatch))\n",
    "probability = (np.count_nonzero(checkMatch) / n)\n",
    "probability = np.round(probability, decimals = 2)\n",
    "# Lopuksi tulostetaan ratkaisu probability muuttujassa:\n",
    "#print(\"Probability of dice roll results are: \", probability)\n",
    "#print(\"When turned into percentages the probability is: \", probability * 100, \"%\")\n",
    "#print(\"\\n-------------------------\\n\")\n",
    "tulos = probability\n",
    "#tulos\n",
    "print(np.round(tulos,decimals=2))"
   ]
  },
  {
   "cell_type": "markdown",
   "metadata": {},
   "source": [
    "## 3. DataFrame - Veikkausliiga\n",
    "\n",
    "Alla on sisäkkäisisitä sanakirjoista koostuva tietorakenne, jossa on jalkapallon Veikkausliigajoukkueiden sarjasijoitukset 1990-2019.\n",
    "\n",
    "Tee sanakirjasta DataFrame, jossa vuodet ovat riviotsikoita ja joukkueet sarakeotsikoita. \n",
    "\n",
    "Suodata ja tulosta sitten DataFramesta seuraava näkymä (älä valitse rivejä \"käsin\"):\n",
    "* Jos data sisältää puuttuvia arvoja NaN, niin sijoita näiden paikalle lukuarvo 0.\n",
    "* HJK:n sijoitus on ollut 3 parhaan joukossa.\n",
    "* Valitse rivit vuosilta 1995-2005 ja RoPS:n, HJK:n ja Ilveksen sarakkeet.\n",
    "* Kaikki yli 10 olevat sijoitukset korvataan merkkijonolla 'yli 10'."
   ]
  },
  {
   "cell_type": "code",
   "execution_count": 19,
   "metadata": {},
   "outputs": [
    {
     "name": "stdout",
     "output_type": "stream",
     "text": [
      "        RoPS  HJK  Ilves\n",
      "1995       9    3      7\n",
      "1997       6    1      0\n",
      "1999       8    2      0\n",
      "2001  yli 10    2      0\n",
      "2002       0    1      0\n"
     ]
    }
   ],
   "source": [
    "veikkausliiga = {1990: {'HJK': 1,'Kuusysi': 2,'MP': 3,'Reipas': 4,'RoPS': 5,'KuPS': 6,'TPS': 7,'Haka': 8,'Ilves': 9,'OTP': 10,'KPV': 11,'Kumu': 12},\n",
    "1991: {'Kuusysi': 1,'MP': 2,'Haka': 3,'Jaro': 4,'HJK': 5,'Ilves': 6,'RoPS': 7,'Jazz': 8,'TPS': 9,'KuPS': 10,'OTP': 11,'Reipas': 12},\n",
    "1992: {'HJK': 1,'Kuusysi': 2,'Jazz': 3,'MYPA': 4,'Jaro': 5,'Haka': 6,'RoPS': 7,'Ilves': 8,'TPS': 9,'MP': 10,'FC/AC Oulu': 11,'KuPS': 12},\n",
    "1993: {'Jazz': 1,'MYPA': 2,'HJK': 3,'Kuusysi': 4,'FinnPa': 5,'TPV': 6,'RoPS': 7,'TPS': 8,'MP': 9,'Haka': 10,'Jaro': 11,'Ilves': 12},\n",
    "1994: {'TPV': 1,'MYPA': 2,'HJK': 3,'Jazz': 4,'RoPS': 5,'Haka': 6,'Jaro': 7,'TPS': 8,'Kuusysi': 9,'FinnPa': 10,'MP': 11,'Ilves': 12,'FC/AC Oulu': 13,'KuPS': 14},\n",
    "1995: {'Haka': 1,'MYPA': 2,'HJK': 3,'Jazz': 4,'Jaro': 5,'TPS': 6,'Ilves': 7,'FinnPa': 8,'RoPS': 9,'VPS': 10,'MP': 11,'TPV': 12,'Kuusysi': 13,'Ponnistus': 14},\n",
    "1996: {'Jazz': 1,'MYPA': 2,'TPS': 3,'FinnPa': 4,'Jaro': 5,'Inter': 6,'VPS': 7,'RoPS': 8,'HJK': 9,'Ilves': 10,'Haka': 11,'MP': 12},\n",
    "1997: {'HJK': 1,'VPS': 2,'FinnPa': 3,'TPS': 4,'MYPA': 5,'RoPS': 6,'Jazz': 7,'Jaro': 8,'TP-Seinäjoki': 9,'Inter': 10},\n",
    "1998: {'Haka': 1,'VPS': 2,'PK-35': 3,'HJK': 4,'Jazz': 5,'TPS': 6,'MYPA': 7,'RoPS': 8,'FinnPa': 9,'Jaro': 10},\n",
    "1999: {'Haka': 1,'HJK': 2,'MYPA': 3,'Jokerit': 4,'Inter': 5,'Jazz': 6,'KooTeePee': 7,'RoPS': 8,'TPS': 9,'Lahti': 10,'VPS': 11,'TPV': 12},\n",
    "2000: {'Haka': 1,'Jokerit': 2,'MYPA': 3,'HJK': 4,'Jazz': 5,'TamU': 6,'Inter': 7,'Lahti': 8,'RoPS': 9,'VPS': 10,'TPS': 11,'KooTeePee': 12},\n",
    "2001: {'TamU': 1,'HJK': 2,'MYPA': 3,'Haka': 4,'Inter': 5,'VPS': 6,'Atlantis': 7,'KuPS': 8,'Lahti': 9,'Jazz': 10,'Jokerit': 11,'RoPS': 12},\n",
    "2002: {'HJK': 1,'MYPA': 2,'Haka': 3,'Allianssi': 4,'TamU': 5,'Inter': 6,'Jaro': 7,'Lahti': 8,'KuPS': 9,'Hämeenlinna': 10,'VPS': 11,'Jazz': 12},\n",
    "2003: {'HJK': 1,'Haka': 2,'TamU': 3,'MYPA': 4,'Lahti': 5,'Allianssi': 6,'Inter': 7,'Jaro': 8,'TPS': 9,'Jokerit': 10,'Hämeenlinna': 11,'Jazz': 12,'KooTeePee': 13,'KuPS': 14},\n",
    "2004: {'Haka': 1,'Allianssi': 2,'TamU': 3,'Inter': 4,'TPS': 5,'HJK': 6,'Lahti': 7,'MYPA': 8,'KooTeePee': 9,'TP-47': 10,'Jaro': 11,'RoPS': 12,'Jazz': 13,'Hämeenlinna': 14},\n",
    "2005: {'MYPA': 1,'HJK': 2,'TamU': 3,'Haka': 4,'Inter': 5,'Lahti': 6,'Allianssi': 7,'KooTeePee': 8,'TPS': 9,'KuPS': 10,'Jaro': 11,'IFK Mariehamn': 12,'RoPS': 13,'TP-47': 14},\n",
    "2006: {'TamU': 1,'HJK': 2,'Haka': 3,'Honka': 4,'IFK Mariehamn': 5,'MYPA': 6,'TPS': 7,'Lahti': 8,'VPS': 9,'Inter': 10,'KooTeePee': 11,'Jaro': 12,'KuPS': 13},\n",
    "2007: {'TamU': 1,'Haka': 2,'TPS': 3,'Honka': 4,'MYPA': 5,'IFK Mariehamn': 6,'HJK': 7,'Lahti': 8,'Inter': 9,'VPS': 10,'Jaro': 11,'KooTeePee': 12,'Viikingit': 13,'FC/AC Oulu': 14},\n",
    "2008: {'Inter': 1,'Honka': 2,'Lahti': 3,'HJK': 4,'MYPA': 5,'TPS': 6,'TamU': 7,'Haka': 8,'Jaro': 9,'RoPS': 10,'VPS': 11,'IFK Mariehamn': 12,'KuPS': 13,'KooTeePee': 14},\n",
    "2009: {'HJK': 1,'Honka': 2,'TPS': 3,'IFK Mariehamn': 4,'Inter': 5,'Haka': 6,'TamU': 7,'VPS': 8,'MYPA': 9,'Jaro': 10,'Lahti': 11,'KuPS': 12,'JJK': 13,'RoPS': 14},\n",
    "2010: {'HJK': 1,'KuPS': 2,'TPS': 3,'Honka': 4,'Jaro': 5,'Inter': 6,'TamU': 7,'Haka': 8,'MYPA': 9,'VPS': 10,'FC/AC Oulu': 11,'IFK Mariehamn': 12,'JJK': 13,'Lahti': 14},\n",
    "2011: {'HJK': 1,'Inter': 2,'JJK': 3,'Honka': 4,'TPS': 5,'KuPS': 6,'IFK Mariehamn': 7,'MYPA': 8,'VPS': 9,'Haka': 10,'Jaro': 11,'RoPS': 12},\n",
    "2012: {'HJK': 1,'Inter': 2,'TPS': 3,'IFK Mariehamn': 4,'Lahti': 5,'MYPA': 6,'Honka': 7,'VPS': 8,'JJK': 9,'KuPS': 10,'Jaro': 11,'Haka': 12},\n",
    "2013: {'HJK': 1,'Honka': 2,'VPS': 3,'IFK Mariehamn': 4,'Lahti': 5,'MYPA': 6,'KuPS': 7,'TPS': 8,'Inter': 9,'Jaro': 10,'RoPS': 11,'JJK': 12},\n",
    "2014: {'HJK': 1,'SJK': 2,'Lahti': 3,'VPS': 4,'IFK Mariehamn': 5,'Jaro': 6,'KuPS': 7,'MYPA': 8,'Inter': 9,'RoPS': 10,'Honka': 11,'TPS': 12},\n",
    "2015: {'SJK': 1,'RoPS': 2,'HJK': 3,'Inter': 4,'Lahti': 5,'IFK Mariehamn': 6,'HIFK': 7,'Ilves': 8,'KuPS': 9,'VPS': 10,'KooTeePee': 11,'Jaro': 12},\n",
    "2016: {'IFK Mariehamn': 1,'HJK': 2,'SJK': 3,'VPS': 4,'Ilves': 5,'RoPS': 6,'KuPS': 7,'Lahti': 8,'PS Kemi': 9,'HIFK': 10,'Inter': 11,'PK-35': 12},\n",
    "2017: {'HJK': 1,'KuPS': 2,'Ilves': 3,'Lahti': 4,'IFK Mariehamn': 5,'SJK': 6,'RoPS': 7,'VPS': 8,'Inter': 9,'PS Kemi': 10,'HIFK': 11,'JJK': 12},\n",
    "2018: {'HJK': 1,'RoPS': 2,'KuPS': 3,'Honka': 4,'Ilves': 5,'VPS': 6,'Inter': 7,'Lahti': 8,'SJK': 9,'IFK Mariehamn': 10,'TPS': 11,'PS Kemi': 12},\n",
    "2019: {'KuPS': 1,'Inter': 2,'Honka': 3,'Ilves': 4,'HJK': 5,'IFK Mariehamn': 6,'HIFK': 7,'Lahti': 8,'SJK': 9,'RoPS': 10,'KPV': 11,'VPS': 12}}\n",
    "\n",
    "# Kirjoita vastauksesi tähän, jossa hyödynnät pandas DataFramea.\n",
    "#...\n",
    "df = pd.DataFrame(veikkausliiga)\n",
    "df = df.T\n",
    "df.fillna(0, inplace=True)\n",
    "df = (df[df['HJK']<4])\n",
    "df = df.loc['1995':'2002', ['RoPS', 'HJK', 'Ilves']]\n",
    "df = df.astype(int)\n",
    "df[df > 10] = \"yli 10\"\n",
    "#df\n",
    "tulos = df\n",
    "#Älä kirjoita tähän muita print komentoja kuin viimeillä rivillä, koska ne antavat sinulle automaattitarkistuksessa virheellisen vastauksen.\n",
    "\n",
    "# Muokkaa vastauksesi siten, että se tulostetaan alla olevan tulos muuttujan avulla:\n",
    "print(tulos)\n"
   ]
  },
  {
   "cell_type": "markdown",
   "metadata": {},
   "source": [
    "## 4. Säädatan käsittelyä DataFramella (1)\n",
    "\n",
    "Tee funktio **saa(url)**, joka ottaa argumentikseen datan url:n ja tulostaa vastauksen alla kuvatulla tavalla:\n",
    "* lataa datan url:sta pandasin DataFrameen,\n",
    "* valitsee kaikki syyskuun 1.-15. päivät, jolloin 'mittari_1 (degC)':n lämpötila on ollut matalampi kuin 'mittari_1 (degC)':n lämpötila 1.9.2000 lajiteltuna 'mittari_1 (degC)':n lämpötilan mukaan nousevasti,\n",
    "* tekee uuden sarakkeen \"erotus\", joka kertoo 'mittari_1 (degC)':n ja 'mittari_2 (degC)':n lämpötilojen erotuksen itseisarvon,\n",
    "* funktio tulostaa data frame talukosta \"tulos\" 5 ensimmäistä riviä, jossa ovat sarakkeet 'mittari_1 (degC)', 'mittari_2 (degC)' ja 'erotus'.\n",
    "\n",
    "Tässä tehtävässä käytetään säähavaintodataa eräältä mittausasemalta vuosilta 1959-2020 seuraavasta url:sta:\n",
    "url=https://student.labranet.jamk.fi/~huoptu/datananal_s20/kerta1/harjoitukset/data_h1_t3.csv\n",
    "\n",
    "**Esimerkiksi**, funktio saa(url) antaa seuraavan tulosteen:\n",
    "\n",
    "| |mittari_1 (degC)|mittari_2 (degC)|erotus|\n",
    "|:---|:---|:---|:---|\n",
    "|2811           |0.004600          |6.594916  |6.590316|\n",
    "|21437          |0.005601          |3.937057  |3.931456|\n",
    "|14130          |0.029420          |0.965881  |0.936460|\n",
    "|10480          |0.031741          |0.663349  |0.631607|\n",
    "|245            |0.037996          |1.740839  |1.702842|\n",
    "\n",
    "**Huom!** Yllä olevassa taulukossa ensimmäinen sarake on rivi-indeksi.\n"
   ]
  },
  {
   "cell_type": "code",
   "execution_count": 176,
   "metadata": {
    "scrolled": false
   },
   "outputs": [
    {
     "name": "stdout",
     "output_type": "stream",
     "text": [
      "   Months  Difference Error\n",
      "3       1    1.114052    in\n",
      "4       1    0.410982    in\n",
      "7       1    1.431599    in\n",
      "8       1    1.393320    in\n",
      "9       1    0.910930    in\n"
     ]
    }
   ],
   "source": [
    "# Tehtävän datan url:\n",
    "url=\"https://student.labranet.jamk.fi/~huoptu/datananal_s20/kerta1/harjoitukset/data_h1_t3.csv\"\n",
    "\n",
    "### Palautettavan tehtävän osa alkaa tästä ###\n",
    "def saa(url):\n",
    "    \n",
    "    # Kirjoita vastauksesi tähän:\n",
    "    df2 = pd.read_csv(url)\n",
    "    date1 = df2[(df2['Kk'] == 9) & (df2['Pv'].between(1,15))]\n",
    "    date2 = df2[(df2['Kk'] == 9) & (df2['Pv'] == 1) & (df2['Vuosi'] == 2000)]\n",
    "    heatlevel = date2['mittari_1 (degC)'].values[0]\n",
    "    compare = date1[(date1['mittari_1 (degC)']) < (heatlevel)]\n",
    "    sortValues = compare.sort_values(by=['mittari_1 (degC)'], ascending=True)\n",
    "    degC1 = sortValues['mittari_1 (degC)']\n",
    "    degC2 = sortValues['mittari_2 (degC)']\n",
    "    substract = abs(degC2 - degC1)\n",
    "    sortValues[\"erotus\"] = substract\n",
    "    result = sortValues.drop(columns=['Vuosi', 'Kk', 'Pv', 'Klo', 'Aikavyöhyke', 'Sademäärä (mm)', 'Lumensyvyys (cm)', 'Ilman lämpötila (degC)'], axis=1)\n",
    "    result\n",
    "    tulos = result\n",
    "    tulos\n",
    "    # Vastauksesi tulostetaan. Älä käytä muita print toimintoja kuin tässä alla.\n",
    "print(tulos.head(5))\n",
    "### Palautettavan tehtävän osa päättyy tähän.   \n",
    "    \n",
    "# Kokeile tekemääsi funktiota:\n",
    "saa(url)\n"
   ]
  },
  {
   "cell_type": "markdown",
   "metadata": {},
   "source": [
    "## 5. Säädatan käsittelyä DataFramella (2)\n",
    "\n",
    "\n",
    "Tee python funktio, joka käyttää argumenttia **url** ja tekee seuraavaa:\n",
    "* Lataa data DataFrameen,\n",
    "* tee uusi sarake \"erotus\", joka kertoo 'mittari_1 (degC)':n ja 'mittari_2 (degC)':n lämpötilojen erotuksen itseisarvon,\n",
    "* jos 'mittari_1 (degC)':n ja 'mittari_1 (degC)':n lämpötilojen erotus on pienempi kuin 1.5 astetta, niin kirjoita ko. riville uuteen sarakkeeseen 'virheraja' merkkijono 'in'.\n",
    "* valitse DataFrameen seuraavat kuukaudet: [1, 4, 7, 10],\n",
    "* valiset DataFramesta vain ne rivit joiden 'virheraja' sarakkeessa on merkkijono 'in',\n",
    "* valitse uuteen DataFrameen pandasin copy toiminnolla sarakkeet 'Kk', 'erotus' ja 'virheraja',\n",
    "* kirjoita uuden DataFramen sarakkeiden nimiksi 'Month' sarakkeen 'Kk' tilalle, 'Difference' sarakkeen 'erotus' tilalle ja 'Error' sarakkeen 'virheraja' tilalle.\n",
    "* tulosta em. DataFramesta viisi viimeistä riviä.\n",
    "\n",
    "Tässä tehtävässä **url**=https://student.labranet.jamk.fi/~huoptu/datananal_s20/kerta1/harjoitukset/data_h1_t3.csv\n",
    "\n",
    "Esimerkiksi, komento saa(url) antaa:\n",
    "\n",
    "| |Month|Difference|Error|\n",
    "|:--- |:---|:---|:---|\n",
    "|22206 |10     |0.609291  |in   |\n",
    "|22212 |10     |0.031468  |in   |\n",
    "|22214 |10     |1.353995  |in   |\n",
    "|22215 |10     |1.184691  |in   |\n",
    "|22283 |1     |0.886008  |in   |\n",
    "\n",
    "**Huom!** Yllä olevassa taulukossa ensimmäinen sarake on rivi-indeksi."
   ]
  },
  {
   "cell_type": "code",
   "execution_count": 21,
   "metadata": {},
   "outputs": [
    {
     "name": "stdout",
     "output_type": "stream",
     "text": [
      "       Months  Difference Error\n",
      "22212      10    1.410990    in\n",
      "22213      10    0.654991    in\n",
      "22216      10    1.002224    in\n",
      "22280       1    0.783193    in\n",
      "22283       1    1.111621    in\n"
     ]
    }
   ],
   "source": [
    "# Tehtävän datan url:\n",
    "url=\"https://student.labranet.jamk.fi/~huoptu/datananal_s20/kerta1/harjoitukset/data_h1_t3_B.csv\"\n",
    "#url=\"https://student.labranet.jamk.fi/~huoptu/datananal_s20/kerta1/harjoitukset/data_h1_t3.csv\"\n",
    "\n",
    "### Palautettavan tehtävän osa alkaa tästä ###\n",
    "def saa(url):\n",
    "    # Kirjoita vastauksesi tähän:\n",
    "    # Luetaan .csv tiedostomuoto\n",
    "    df3 = pd.read_csv(url)\n",
    "    # haetaan kolumnit 8 ja 9 eri muuttujiin\n",
    "    degC3 = df3.iloc[:,8]\n",
    "    degC4 = df3.iloc[:,9]\n",
    "    # Vähennyslasku ja siitä itseisarvo (abs)\n",
    "    substract = (degC4 - degC3)\n",
    "    difference = abs(substract)\n",
    "    # Liitetään alkuperäiseen tauluun uusi kolumni nimeltä: erotus, ja toinen nimeltä: virheraja\n",
    "    df3['erotus'] = difference\n",
    "    df3['virheraja'] = substract\n",
    "    # Nimetään ne virheraja kolumnit arvot 'in', joiden arvo on alle 1.5 ja loput 'out'\n",
    "    df3['virheraja'] = np.where(df3['erotus'] < 1.5, 'in', 'out')\n",
    "    # Haetaan taulusta 'Kk', eli kuukausikolumnista ne kuukaudet, joiden arvot ovat 1, 4, 7 tai 10\n",
    "    months = df3.loc[(df3['Kk'] == 1) | (df3['Kk'] == 4) | (df3['Kk'] == 7) | (df3['Kk'] == 10)]\n",
    "    # Otetaan ne rivit virheraja kolumnista, joiden arvo on 'in'\n",
    "    cond = (months[months['virheraja'] == 'in'])\n",
    "    # Otetaan ne kolumnit, joiden kolumien nimet ovat 'Kk', 'erotus' ja 'virheraja'\n",
    "    cols = cond[[\"Kk\", \"erotus\", \"virheraja\"]]\n",
    "    # Luodaan taulusta kopio\n",
    "    df3_copy = cols.copy()\n",
    "    # Uudelleen nimetään taulun nimet 'Kk' = 'Months', 'erotus' = 'Difference' ja 'virheraja' = 'Error'\n",
    "    df3_copy.rename(columns={\"Kk\": \"Months\", \"erotus\" : \"Difference\", \"virheraja\" : \"Error\"}, inplace=True)\n",
    "    #Kerrotaan, että tulos on sama kuin tähän asti parsittu taulu\n",
    "    tulos = df3_copy\n",
    "    #tulos\n",
    "    \n",
    "    # Vastauksesi tulostetaan. Älä käytä muita print toimintoja kuin tässä alla.\n",
    "    print(tulos.tail(5))\n",
    "### Palautettavan tehtävän osa päättyy tähän.   \n",
    "\n",
    "    \n",
    "# Kokeile tekemääsi funktiota:\n",
    "saa(url)"
   ]
  },
  {
   "cell_type": "code",
   "execution_count": null,
   "metadata": {},
   "outputs": [],
   "source": []
  }
 ],
 "metadata": {
  "kernelspec": {
   "display_name": "Python 3",
   "language": "python",
   "name": "python3"
  },
  "language_info": {
   "codemirror_mode": {
    "name": "ipython",
    "version": 3
   },
   "file_extension": ".py",
   "mimetype": "text/x-python",
   "name": "python",
   "nbconvert_exporter": "python",
   "pygments_lexer": "ipython3",
   "version": "3.8.5"
  }
 },
 "nbformat": 4,
 "nbformat_minor": 2
}
